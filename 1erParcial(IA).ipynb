{
 "cells": [
  {
   "cell_type": "code",
   "execution_count": 1,
   "metadata": {},
   "outputs": [],
   "source": [
    "import pandas as pd\n",
    "from sklearn.model_selection import train_test_split, GridSearchCV\n",
    "from sklearn.preprocessing import StandardScaler\n",
    "from sklearn.linear_model import Ridge\n",
    "from sklearn.metrics import mean_squared_error"
   ]
  },
  {
   "cell_type": "code",
   "execution_count": 13,
   "metadata": {},
   "outputs": [
    {
     "name": "stdout",
     "output_type": "stream",
     "text": [
      "Fitting 3 folds for each of 5 candidates, totalling 15 fits\n",
      "Mejores hiperparámetros:\n",
      "{'alpha': 0.01}\n",
      "Mean Squared Error en validación: 39.4809518904355\n"
     ]
    }
   ],
   "source": [
    "# Cargar el dataset\n",
    "data = pd.read_csv(\"Temp_Asu20092021.csv\")\n",
    "\n",
    "# Convertir la columna 'Fecha' a tipo datetime\n",
    "data['Fecha'] = pd.to_datetime(data['Fecha'])\n",
    "\n",
    "# Establecer la columna 'Fecha' como índice\n",
    "data.set_index('Fecha', inplace=True)\n",
    "\n",
    "# Filtrar datos desde 2019 en adelante\n",
    "data = data[data.index.year >= 2019]\n",
    "\n",
    "# Eliminar filas con valores faltantes\n",
    "data.dropna(inplace=True)\n",
    "\n",
    "# Resamplear el conjunto de datos a intervalos diarios y calcular la temperatura máxima diaria\n",
    "daily_max_temperatures = data['Temperatura'].resample('D').max()\n",
    "\n",
    "data['Max_Temperature_Day'] = data.groupby(data.index.date)['Temperatura'].transform('max')\n",
    "\n",
    "# Objetivo: predecir la temperatura máxima del siguiente día\n",
    "data['NextDay_Temp'] = data['Max_Temperature_Day'].shift(-24)\n",
    "\n",
    "# Eliminar filas con valores faltantes tras el desplazamiento\n",
    "data.dropna(inplace=True)\n",
    "\n",
    "# Definir características (features) y variable objetivo (target)\n",
    "X = data[['Temperatura']]  # Puedes agregar más características según sea necesario\n",
    "y = data['NextDay_Temp']\n",
    "\n",
    "# Normalizar las características\n",
    "scaler = StandardScaler()\n",
    "X_scaled = scaler.fit_transform(X)\n",
    "\n",
    "# Dividir los datos en conjuntos de entrenamiento y validación\n",
    "train_indices = (data.index.year <= 2020)\n",
    "val_indices = (data.index.year == 2021)\n",
    "\n",
    "X_train, X_val = X_scaled[train_indices], X_scaled[val_indices]\n",
    "y_train, y_val = y[train_indices], y[val_indices]\n",
    "\n",
    "# Definir el modelo de regresión Ridge\n",
    "ridge = Ridge()\n",
    "\n",
    "# Definir la cuadrícula de parámetros para GridSearch\n",
    "param_grid = {\n",
    "    'alpha': [0.01, 0.1, 1.0, 10.0, 100.0]  # Regularización L2\n",
    "}\n",
    "\n",
    "# Usar GridSearchCV para buscar los mejores hiperparámetros\n",
    "grid_search = GridSearchCV(estimator=ridge, param_grid=param_grid, cv=3, scoring='neg_mean_squared_error', verbose=1, n_jobs=-1)\n",
    "grid_search.fit(X_train, y_train)\n",
    "\n",
    "# Imprimir los mejores hiperparámetros encontrados\n",
    "print(\"Mejores hiperparámetros:\")\n",
    "print(grid_search.best_params_)\n",
    "\n",
    "# Evaluar el modelo con los mejores hiperparámetros en el conjunto de validación\n",
    "best_model = grid_search.best_estimator_\n",
    "y_pred = best_model.predict(X_val)\n",
    "mse = mean_squared_error(y_val, y_pred)\n",
    "print(f\"Mean Squared Error en validación: {mse}\")"
   ]
  }
 ],
 "metadata": {
  "kernelspec": {
   "display_name": "Python 3",
   "language": "python",
   "name": "python3"
  },
  "language_info": {
   "codemirror_mode": {
    "name": "ipython",
    "version": 3
   },
   "file_extension": ".py",
   "mimetype": "text/x-python",
   "name": "python",
   "nbconvert_exporter": "python",
   "pygments_lexer": "ipython3",
   "version": "3.11.9"
  }
 },
 "nbformat": 4,
 "nbformat_minor": 2
}
